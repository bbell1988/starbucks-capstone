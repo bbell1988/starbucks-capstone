{
 "cells": [
  {
   "cell_type": "code",
   "execution_count": null,
   "metadata": {},
   "outputs": [],
   "source": [
    "def create_event_df(event_name):\n",
    "    \n",
    "    df = transcript[transcript.event == event_name].reset_index(drop=True)\n",
    "\n",
    "    lst_col1 = df.customer_id.tolist()\n",
    "    lst_col2 = df.time.tolist()\n",
    "    lst_col3 = df.offer_id.tolist()\n",
    "\n",
    "    tuple_ = tuple(zip(lst_col1,lst_col2,lst_col3))\n",
    "    df = pd.DataFrame(tuple_,columns=['customer_id','time','offer_id'])\n",
    "    df[event_name] = 1\n",
    "    df['combined'] = df['customer_id'] + df['time'].astype(str) + df['offer_id']\n",
    "    \n",
    "    return df"
   ]
  },
  {
   "cell_type": "code",
   "execution_count": null,
   "metadata": {},
   "outputs": [],
   "source": [
    "# creating the completed_offers, offers_received, and offers_viewed dataframes\n",
    "\n",
    "completed_offers = create_event_df(event_name='offer completed')\n",
    "offers_received = create_event_df(event_name='offer received')\n",
    "offers_viewed = create_event_df(event_name='offer viewed')"
   ]
  },
  {
   "cell_type": "code",
   "execution_count": null,
   "metadata": {},
   "outputs": [],
   "source": [
    "offers_viewed.duplicated().sum()"
   ]
  },
  {
   "cell_type": "code",
   "execution_count": null,
   "metadata": {},
   "outputs": [],
   "source": [
    "# Creating transaction dataframe\n",
    "\n",
    "transaction = transcript[transcript.event == 'transaction'].reset_index(drop=True)\n",
    "transaction = transaction.drop(columns=['offer_id','reward'])\n",
    "transaction['for_transaction'] = transaction['customer_id'] + transaction['time'].astype(str)"
   ]
  },
  {
   "cell_type": "markdown",
   "metadata": {},
   "source": [
    "# checking dataframes"
   ]
  },
  {
   "cell_type": "code",
   "execution_count": null,
   "metadata": {},
   "outputs": [],
   "source": [
    "print('The completed offers dataframe has {} rows and {} columns'.format\\\n",
    "                    (completed_offers.shape[0],completed_offers.shape[1]))\n",
    "\n",
    "completed_offers.head()"
   ]
  },
  {
   "cell_type": "code",
   "execution_count": null,
   "metadata": {},
   "outputs": [],
   "source": [
    "print('The offers_received dataframe has {} rows and {} columns'.format\\\n",
    "                    (offers_received.shape[0],offers_received.shape[1]))\n",
    "\n",
    "offers_received.head()"
   ]
  },
  {
   "cell_type": "code",
   "execution_count": null,
   "metadata": {},
   "outputs": [],
   "source": [
    "print('The offers_viewed dataframe has {} rows and {} columns'.format\\\n",
    "                    (offers_viewed.shape[0],offers_viewed.shape[1]))\n",
    "\n",
    "offers_viewed.head()"
   ]
  },
  {
   "cell_type": "code",
   "execution_count": null,
   "metadata": {},
   "outputs": [],
   "source": [
    "print('The transaction dataframe has {} rows and {} columns'.format\\\n",
    "                    (transaction.shape[0],transaction.shape[1]))\n",
    "\n",
    "transaction.head()"
   ]
  },
  {
   "cell_type": "code",
   "execution_count": null,
   "metadata": {},
   "outputs": [],
   "source": []
  },
  {
   "cell_type": "code",
   "execution_count": null,
   "metadata": {},
   "outputs": [],
   "source": []
  }
 ],
 "metadata": {
  "kernelspec": {
   "display_name": "Python 3",
   "language": "python",
   "name": "python3"
  },
  "language_info": {
   "codemirror_mode": {
    "name": "ipython",
    "version": 3
   },
   "file_extension": ".py",
   "mimetype": "text/x-python",
   "name": "python",
   "nbconvert_exporter": "python",
   "pygments_lexer": "ipython3",
   "version": "3.7.9"
  }
 },
 "nbformat": 4,
 "nbformat_minor": 4
}
